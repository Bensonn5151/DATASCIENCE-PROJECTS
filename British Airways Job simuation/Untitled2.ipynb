{
 "cells": [
  {
   "cell_type": "code",
   "execution_count": 1,
   "id": "50de7113",
   "metadata": {},
   "outputs": [
    {
     "name": "stdout",
     "output_type": "stream",
     "text": [
      "[Errno 2] No such file or directory: 'Downloads'\n",
      "/Users/apple/DATASCIENCE PROJECTS/British Airways\n"
     ]
    }
   ],
   "source": [
    "cd Downloads"
   ]
  },
  {
   "cell_type": "code",
   "execution_count": 2,
   "id": "e0bf2dc6",
   "metadata": {},
   "outputs": [
    {
     "name": "stdout",
     "output_type": "stream",
     "text": [
      "BA_reviews.csv\r\n",
      "British Airways Web Scraping & Analysis.ipynb\r\n",
      "Untitled.ipynb\r\n",
      "Untitled1.ipynb\r\n",
      "Untitled2.ipynb\r\n",
      "customer_booking.csv\r\n"
     ]
    }
   ],
   "source": [
    "ls"
   ]
  },
  {
   "cell_type": "code",
   "execution_count": 3,
   "id": "95ed68d2",
   "metadata": {},
   "outputs": [
    {
     "name": "stdout",
     "output_type": "stream",
     "text": [
      "/Users/apple\n"
     ]
    }
   ],
   "source": [
    "cd"
   ]
  },
  {
   "cell_type": "code",
   "execution_count": 4,
   "id": "e3f4686d",
   "metadata": {},
   "outputs": [
    {
     "name": "stdout",
     "output_type": "stream",
     "text": [
      "#include <iostream.h>.cpp  Untitled2.ipynb\r\n",
      "\u001b[31m#include <stdio.h>\u001b[m\u001b[m*        Untitled3.ipynb\r\n",
      "#include <stdio.h>.c       Untitled4.ipynb\r\n",
      "\u001b[34m#include <stdio.h>.dSYM\u001b[m\u001b[m/   Untitled5.ipynb\r\n",
      "\u001b[31m1\u001b[m\u001b[m*                         Untitled6.ipynb\r\n",
      "1.c                        Untitled7.ipynb\r\n",
      "\u001b[34mApplications\u001b[m\u001b[m/              Untitled8.ipynb\r\n",
      "\u001b[34mDATASCIENCE PROJECTS\u001b[m\u001b[m/      Untitled9.ipynb\r\n",
      "\u001b[34mDS\u001b[m\u001b[m/                        \u001b[34mWiFiCrack\u001b[m\u001b[m/\r\n",
      "\u001b[34mDesktop\u001b[m\u001b[m/                   _printf.c\r\n",
      "\u001b[34mDocuments\u001b[m\u001b[m/                 \u001b[31ma.out\u001b[m\u001b[m*\r\n",
      "\u001b[34mDownloads\u001b[m\u001b[m/                 \u001b[34mcAlgo\u001b[m\u001b[m/\r\n",
      "FUNCTION2.py               \u001b[34mcTrader\u001b[m\u001b[m/\r\n",
      "\u001b[34mFinancialplayground\u001b[m\u001b[m/       \u001b[34mcprog\u001b[m\u001b[m/\r\n",
      "HEAD.h                     \u001b[34mfluxion\u001b[m\u001b[m/\r\n",
      "\u001b[34mHxWhatsApp\u001b[m\u001b[m/                function.PY\r\n",
      "IF4.py                     game.py\r\n",
      "LISTS.py                   hello.c\r\n",
      "LISTS1.py                  main.c\r\n",
      "\u001b[34mLibrary\u001b[m\u001b[m/                   \u001b[34mmyshell\u001b[m\u001b[m/\r\n",
      "\u001b[34mMovies\u001b[m\u001b[m/                    \u001b[34mprintF\u001b[m\u001b[m/\r\n",
      "\u001b[34mMusic\u001b[m\u001b[m/                     \u001b[34mprojectp\u001b[m\u001b[m/\r\n",
      "\u001b[34mPictures\u001b[m\u001b[m/                  \u001b[34msimple_shell\u001b[m\u001b[m/\r\n",
      "\u001b[34mPublic\u001b[m\u001b[m/                    \u001b[34mtensorflow_datasets\u001b[m\u001b[m/\r\n",
      "\u001b[34mUntitled Folder\u001b[m\u001b[m/           \u001b[34mtrial\u001b[m\u001b[m/\r\n",
      "\u001b[34mUntitled Folder 1\u001b[m\u001b[m/         var\r\n",
      "\u001b[34mUntitled Folder 2\u001b[m\u001b[m/         wcs_crude_cadaud.csv\r\n",
      "Untitled.ipynb             \u001b[34mwhatsapp-phishing\u001b[m\u001b[m/\r\n",
      "Untitled1.ipynb            \u001b[34mxmrig\u001b[m\u001b[m/\r\n",
      "Untitled10.ipynb\r\n"
     ]
    }
   ],
   "source": [
    "ls"
   ]
  },
  {
   "cell_type": "code",
   "execution_count": 5,
   "id": "21abb700",
   "metadata": {},
   "outputs": [
    {
     "name": "stdout",
     "output_type": "stream",
     "text": [
      "/Users/apple/Downloads\n"
     ]
    }
   ],
   "source": [
    "cd Downloads"
   ]
  },
  {
   "cell_type": "code",
   "execution_count": 6,
   "id": "bf9ad469",
   "metadata": {},
   "outputs": [
    {
     "data": {
      "text/html": [
       "<div>\n",
       "<style scoped>\n",
       "    .dataframe tbody tr th:only-of-type {\n",
       "        vertical-align: middle;\n",
       "    }\n",
       "\n",
       "    .dataframe tbody tr th {\n",
       "        vertical-align: top;\n",
       "    }\n",
       "\n",
       "    .dataframe thead th {\n",
       "        text-align: right;\n",
       "    }\n",
       "</style>\n",
       "<table border=\"1\" class=\"dataframe\">\n",
       "  <thead>\n",
       "    <tr style=\"text-align: right;\">\n",
       "      <th></th>\n",
       "      <th>State</th>\n",
       "      <th>APM</th>\n",
       "      <th>APP</th>\n",
       "      <th>BP</th>\n",
       "      <th>LP</th>\n",
       "      <th>NNPP</th>\n",
       "      <th>SDP</th>\n",
       "      <th>YPP</th>\n",
       "      <th>ZLP</th>\n",
       "      <th>APGA</th>\n",
       "      <th>...</th>\n",
       "      <th>PRP</th>\n",
       "      <th>A</th>\n",
       "      <th>AA</th>\n",
       "      <th>NRM</th>\n",
       "      <th>AAC</th>\n",
       "      <th>ADC</th>\n",
       "      <th>ADP</th>\n",
       "      <th>APC</th>\n",
       "      <th>Total Votes</th>\n",
       "      <th>Registered Voters</th>\n",
       "    </tr>\n",
       "  </thead>\n",
       "  <tbody>\n",
       "    <tr>\n",
       "      <th>0</th>\n",
       "      <td>Abia</td>\n",
       "      <td>608</td>\n",
       "      <td>672</td>\n",
       "      <td>348</td>\n",
       "      <td>327095</td>\n",
       "      <td>1239</td>\n",
       "      <td>144</td>\n",
       "      <td>1861</td>\n",
       "      <td>1039</td>\n",
       "      <td>3943</td>\n",
       "      <td>...</td>\n",
       "      <td>97</td>\n",
       "      <td>213</td>\n",
       "      <td>109</td>\n",
       "      <td>138</td>\n",
       "      <td>179</td>\n",
       "      <td>522</td>\n",
       "      <td>240</td>\n",
       "      <td>8914</td>\n",
       "      <td>370037</td>\n",
       "      <td>2120808</td>\n",
       "    </tr>\n",
       "    <tr>\n",
       "      <th>1</th>\n",
       "      <td>Adamawa</td>\n",
       "      <td>650</td>\n",
       "      <td>372</td>\n",
       "      <td>522</td>\n",
       "      <td>105648</td>\n",
       "      <td>8006</td>\n",
       "      <td>1944</td>\n",
       "      <td>958</td>\n",
       "      <td>2257</td>\n",
       "      <td>887</td>\n",
       "      <td>...</td>\n",
       "      <td>701</td>\n",
       "      <td>654</td>\n",
       "      <td>536</td>\n",
       "      <td>1563</td>\n",
       "      <td>646</td>\n",
       "      <td>3398</td>\n",
       "      <td>1906</td>\n",
       "      <td>182881</td>\n",
       "      <td>731140</td>\n",
       "      <td>2196566</td>\n",
       "    </tr>\n",
       "    <tr>\n",
       "      <th>2</th>\n",
       "      <td>Akwa Ibom</td>\n",
       "      <td>599</td>\n",
       "      <td>325</td>\n",
       "      <td>524</td>\n",
       "      <td>132683</td>\n",
       "      <td>7796</td>\n",
       "      <td>583</td>\n",
       "      <td>27179</td>\n",
       "      <td>4124</td>\n",
       "      <td>783</td>\n",
       "      <td>...</td>\n",
       "      <td>343</td>\n",
       "      <td>860</td>\n",
       "      <td>289</td>\n",
       "      <td>667</td>\n",
       "      <td>626</td>\n",
       "      <td>2265</td>\n",
       "      <td>811</td>\n",
       "      <td>160620</td>\n",
       "      <td>555089</td>\n",
       "      <td>2357418</td>\n",
       "    </tr>\n",
       "    <tr>\n",
       "      <th>3</th>\n",
       "      <td>Anambra</td>\n",
       "      <td>325</td>\n",
       "      <td>148</td>\n",
       "      <td>514</td>\n",
       "      <td>584621</td>\n",
       "      <td>1967</td>\n",
       "      <td>84</td>\n",
       "      <td>1997</td>\n",
       "      <td>1420</td>\n",
       "      <td>7388</td>\n",
       "      <td>...</td>\n",
       "      <td>62</td>\n",
       "      <td>343</td>\n",
       "      <td>108</td>\n",
       "      <td>118</td>\n",
       "      <td>112</td>\n",
       "      <td>208</td>\n",
       "      <td>299</td>\n",
       "      <td>5111</td>\n",
       "      <td>613861</td>\n",
       "      <td>2656437</td>\n",
       "    </tr>\n",
       "    <tr>\n",
       "      <th>4</th>\n",
       "      <td>Bauchi</td>\n",
       "      <td>489</td>\n",
       "      <td>215</td>\n",
       "      <td>224</td>\n",
       "      <td>27373</td>\n",
       "      <td>72103</td>\n",
       "      <td>924</td>\n",
       "      <td>645</td>\n",
       "      <td>896</td>\n",
       "      <td>906</td>\n",
       "      <td>...</td>\n",
       "      <td>1824</td>\n",
       "      <td>237</td>\n",
       "      <td>399</td>\n",
       "      <td>1062</td>\n",
       "      <td>180</td>\n",
       "      <td>1291</td>\n",
       "      <td>1447</td>\n",
       "      <td>316694</td>\n",
       "      <td>853516</td>\n",
       "      <td>2749268</td>\n",
       "    </tr>\n",
       "  </tbody>\n",
       "</table>\n",
       "<p>5 rows × 21 columns</p>\n",
       "</div>"
      ],
      "text/plain": [
       "       State  APM  APP   BP      LP   NNPP   SDP    YPP   ZLP  APGA  ...  \\\n",
       "0       Abia  608  672  348  327095   1239   144   1861  1039  3943  ...   \n",
       "1    Adamawa  650  372  522  105648   8006  1944    958  2257   887  ...   \n",
       "2  Akwa Ibom  599  325  524  132683   7796   583  27179  4124   783  ...   \n",
       "3    Anambra  325  148  514  584621   1967    84   1997  1420  7388  ...   \n",
       "4     Bauchi  489  215  224   27373  72103   924    645   896   906  ...   \n",
       "\n",
       "    PRP    A   AA   NRM  AAC   ADC   ADP     APC  Total Votes  \\\n",
       "0    97  213  109   138  179   522   240    8914       370037   \n",
       "1   701  654  536  1563  646  3398  1906  182881       731140   \n",
       "2   343  860  289   667  626  2265   811  160620       555089   \n",
       "3    62  343  108   118  112   208   299    5111       613861   \n",
       "4  1824  237  399  1062  180  1291  1447  316694       853516   \n",
       "\n",
       "   Registered Voters  \n",
       "0            2120808  \n",
       "1            2196566  \n",
       "2            2357418  \n",
       "3            2656437  \n",
       "4            2749268  \n",
       "\n",
       "[5 rows x 21 columns]"
      ]
     },
     "execution_count": 6,
     "metadata": {},
     "output_type": "execute_result"
    }
   ],
   "source": [
    "import pandas as pd\n",
    "data=pd.read_csv('election data.csv')\n",
    "data.head()"
   ]
  },
  {
   "cell_type": "code",
   "execution_count": 13,
   "id": "358ea573",
   "metadata": {},
   "outputs": [
    {
     "data": {
      "text/plain": [
       "93469008"
      ]
     },
     "execution_count": 13,
     "metadata": {},
     "output_type": "execute_result"
    }
   ],
   "source": [
    "r=data['Registered Voters'].sum()\n",
    "r"
   ]
  },
  {
   "cell_type": "code",
   "execution_count": 16,
   "id": "8016534f",
   "metadata": {},
   "outputs": [
    {
     "data": {
      "text/plain": [
       "24024127"
      ]
     },
     "execution_count": 16,
     "metadata": {},
     "output_type": "execute_result"
    }
   ],
   "source": [
    "total_votes=data['Total Votes'].sum()\n",
    "total_votes"
   ]
  },
  {
   "cell_type": "code",
   "execution_count": 12,
   "id": "66271a46",
   "metadata": {},
   "outputs": [
    {
     "data": {
      "text/plain": [
       "3.8906307812974847"
      ]
     },
     "execution_count": 12,
     "metadata": {},
     "output_type": "execute_result"
    }
   ],
   "source": [
    "r/t"
   ]
  },
  {
   "cell_type": "code",
   "execution_count": 18,
   "id": "d06ec290",
   "metadata": {},
   "outputs": [
    {
     "data": {
      "text/plain": [
       "69444881"
      ]
     },
     "execution_count": 18,
     "metadata": {},
     "output_type": "execute_result"
    }
   ],
   "source": [
    "rem=r-total_votes\n",
    "rem"
   ]
  },
  {
   "cell_type": "code",
   "execution_count": null,
   "id": "94e088d6",
   "metadata": {},
   "outputs": [],
   "source": []
  },
  {
   "cell_type": "code",
   "execution_count": 21,
   "id": "44cd4a2d",
   "metadata": {},
   "outputs": [
    {
     "ename": "SyntaxError",
     "evalue": "positional argument follows keyword argument (1160527415.py, line 2)",
     "output_type": "error",
     "traceback": [
      "\u001b[0;36m  File \u001b[0;32m\"/var/folders/pb/q49x3lbx6313whr2jx93rk180000gn/T/ipykernel_71923/1160527415.py\"\u001b[0;36m, line \u001b[0;32m2\u001b[0m\n\u001b[0;31m    plt.plot(kind='pie',rem, total_votes)\u001b[0m\n\u001b[0m                                        ^\u001b[0m\n\u001b[0;31mSyntaxError\u001b[0m\u001b[0;31m:\u001b[0m positional argument follows keyword argument\n"
     ]
    }
   ],
   "source": [
    "import matplotlib.pyplot as plt\n",
    "plt.plot(kind='pie',rem, total_votes)"
   ]
  },
  {
   "cell_type": "code",
   "execution_count": 22,
   "id": "c803225c",
   "metadata": {},
   "outputs": [
    {
     "data": {
      "image/png": "[encoded data removed]",
      "text/plain": [
       "<Figure size 504x504 with 1 Axes>"
      ]
     },
     "metadata": {},
     "output_type": "display_data"
    }
   ],
   "source": [
    "import matplotlib.pyplot as plt\n",
    "\n",
    "# Assuming you already have computed the sum of registered voters and total votes\n",
    "registered_voters_sum = 93469008\n",
    "total_votes_sum = 24024127\n",
    "\n",
    "# Compute the proportions\n",
    "registered_voters_proportion = registered_voters_sum / (registered_voters_sum + total_votes_sum)\n",
    "total_votes_proportion = total_votes_sum / (registered_voters_sum + total_votes_sum)\n",
    "\n",
    "# Pie chart labels\n",
    "labels = ['Registered Voters', 'Total Votes']\n",
    "\n",
    "# Pie chart proportions\n",
    "sizes = [registered_voters_proportion, total_votes_proportion]\n",
    "\n",
    "# Pie chart colors\n",
    "colors = ['#ff9999','#66b3ff']\n",
    "\n",
    "# Plot\n",
    "plt.figure(figsize=(7, 7))\n",
    "plt.pie(sizes, labels=labels, colors=colors, autopct='%1.1f%%', startangle=140)\n",
    "plt.axis('equal')  # Equal aspect ratio ensures that pie is drawn as a circle.\n",
    "plt.title('Proportion of Registered Voters vs Total Votes')\n",
    "plt.show()\n"
   ]
  },
  {
   "cell_type": "code",
   "execution_count": null,
   "id": "35b8a41f",
   "metadata": {},
   "outputs": [],
   "source": []
  }
 ],
 "metadata": {
  "kernelspec": {
   "display_name": "Python 3 (ipykernel)",
   "language": "python",
   "name": "python3"
  },
  "language_info": {
   "codemirror_mode": {
    "name": "ipython",
    "version": 3
   },
   "file_extension": ".py",
   "mimetype": "text/x-python",
   "name": "python",
   "nbconvert_exporter": "python",
   "pygments_lexer": "ipython3",
   "version": "3.9.7"
  }
 },
 "nbformat": 4,
 "nbformat_minor": 5
}
